{
 "cells": [
  {
   "cell_type": "code",
   "execution_count": 1,
   "metadata": {},
   "outputs": [],
   "source": [
    "import json\n",
    "import pandas as pd\n",
    "\n",
    "with open('config.json', 'r') as json_file:\n",
    "    config = json.load(json_file)"
   ]
  },
  {
   "attachments": {},
   "cell_type": "markdown",
   "metadata": {},
   "source": [
    "Load data about summary diagnosis"
   ]
  },
  {
   "cell_type": "code",
   "execution_count": null,
   "metadata": {},
   "outputs": [],
   "source": [
    "df_diag = pd.read_csv(config['all_data_file'], usecols=['eid'] + [f'41202-0.{i}' for i in range(80)])"
   ]
  },
  {
   "attachments": {},
   "cell_type": "markdown",
   "metadata": {},
   "source": [
    "Collect row id's of people with Atherosclerosis: ICD-10 code = I25.1"
   ]
  },
  {
   "cell_type": "code",
   "execution_count": 6,
   "metadata": {},
   "outputs": [
    {
     "data": {
      "text/plain": [
       "(26314, 476056)"
      ]
     },
     "execution_count": 6,
     "metadata": {},
     "output_type": "execute_result"
    }
   ],
   "source": [
    "my_ICD = 'I251'\n",
    "\n",
    "sick_id = []\n",
    "healthy_id = []\n",
    "\n",
    "for i in range(len(df_diag)):\n",
    "    for d in range(80):\n",
    "        if df_diag.loc[i, f'41202-0.{d}'] == my_ICD:\n",
    "            sick_id.append(i)\n",
    "            break\n",
    "        elif str(df_diag.loc[i, f'41202-0.{d}']) == 'nan':\n",
    "            healthy_id.append(i)\n",
    "            break\n",
    "\n",
    "len(sick_id), len(healthy_id)\n",
    "            "
   ]
  },
  {
   "attachments": {},
   "cell_type": "markdown",
   "metadata": {},
   "source": [
    "Convert row ids to eid's"
   ]
  },
  {
   "cell_type": "code",
   "execution_count": 18,
   "metadata": {},
   "outputs": [],
   "source": [
    "eid_sick = df_diag.loc[sick_id, 'eid'].tolist()\n",
    "eid_healthy = df_diag.loc[healthy_id, 'eid'].tolist()"
   ]
  },
  {
   "attachments": {},
   "cell_type": "markdown",
   "metadata": {},
   "source": [
    "Store eid's in files to future use"
   ]
  },
  {
   "cell_type": "code",
   "execution_count": 19,
   "metadata": {},
   "outputs": [],
   "source": [
    "with open('data/eid_sick', 'w') as f:\n",
    "    f.write('\\n'.join(map(str, eid_sick)))\n",
    "\n",
    "with open('data/eid_healthy', 'w') as f:\n",
    "    f.write('\\n'.join(map(str, eid_healthy)))"
   ]
  }
 ],
 "metadata": {
  "kernelspec": {
   "display_name": "bio-venv",
   "language": "python",
   "name": "python3"
  },
  "language_info": {
   "codemirror_mode": {
    "name": "ipython",
    "version": 3
   },
   "file_extension": ".py",
   "mimetype": "text/x-python",
   "name": "python",
   "nbconvert_exporter": "python",
   "pygments_lexer": "ipython3",
   "version": "3.10.9"
  }
 },
 "nbformat": 4,
 "nbformat_minor": 2
}
