{
 "cells": [
  {
   "cell_type": "code",
   "execution_count": 74,
   "metadata": {},
   "outputs": [],
   "source": [
    "import numpy as np\n",
    "import pandas as pd\n",
    "import matplotlib.pyplot as plt\n",
    "import seaborn as sns\n",
    "\n",
    "from sklearn.preprocessing import StandardScaler\n",
    "from sklearn.impute import SimpleImputer\n",
    "from sklearn.feature_selection import mutual_info_classif\n",
    "from sklearn.model_selection import train_test_split\n",
    "from sklearn.metrics import f1_score, roc_auc_score\n",
    "\n",
    "from sklearn.linear_model import LogisticRegression\n",
    "from sklearn.neural_network import MLPClassifier\n",
    "from sklearn.neighbors import KNeighborsClassifier\n",
    "from sklearn.svm import SVC\n",
    "from sklearn.ensemble import RandomForestClassifier, AdaBoostClassifier\n",
    "from xgboost import XGBClassifier\n",
    "\n",
    "import shap"
   ]
  },
  {
   "attachments": {},
   "cell_type": "markdown",
   "metadata": {},
   "source": [
    "Load sick and healthy patients"
   ]
  },
  {
   "cell_type": "code",
   "execution_count": 2,
   "metadata": {},
   "outputs": [
    {
     "data": {
      "text/plain": [
       "(26314, 476056)"
      ]
     },
     "execution_count": 2,
     "metadata": {},
     "output_type": "execute_result"
    }
   ],
   "source": [
    "with open(\"data/eid_sick\") as f:\n",
    "    eid_sick = list(map(int, f.read().split('\\n')))\n",
    "\n",
    "with open(\"data/eid_healthy\") as f:\n",
    "    eid_healthy = list(map(int, f.read().split('\\n')))\n",
    "\n",
    "len(eid_sick), len(eid_healthy)"
   ]
  },
  {
   "attachments": {},
   "cell_type": "markdown",
   "metadata": {},
   "source": [
    "Load column descriptions"
   ]
  },
  {
   "cell_type": "code",
   "execution_count": 3,
   "metadata": {},
   "outputs": [
    {
     "name": "stdout",
     "output_type": "stream",
     "text": [
      "11 categories, total of 193 columns\n",
      "===================================\n",
      "Physical activity: 24 columns\n",
      "Sleep: 7 columns\n",
      "Smoking: 26 columns\n",
      "Diet: 28 columns\n",
      "Alcohol: 19 columns\n",
      "Chest pain: 4 columns\n",
      "Blood pressure: 8 columns\n",
      "Arterial stiffness: 8 columns\n",
      "Body size measures: 8 columns\n",
      "Blood count: 31 columns\n",
      "Blood biochemistry: 30 columns\n"
     ]
    }
   ],
   "source": [
    "column_desc = {}\n",
    "\n",
    "with open(\"data/my_columns\") as f:\n",
    "    my_columns = f.read().split('\\n')\n",
    "\n",
    "with open(\"data/filtered_fields\") as f:\n",
    "    lines = f.read().split('\\n')\n",
    "    category = ''\n",
    "    \n",
    "    for line in lines:\n",
    "        if line == '':\n",
    "            continue\n",
    "        \n",
    "        # New category\n",
    "        if line[0] == '#':\n",
    "            category = line.split(' - ')[-1]\n",
    "            column_desc[category] = {}\n",
    "            \n",
    "        # Fill category\n",
    "        else:\n",
    "            field, fdesc, ftype = line.split('\\t')\n",
    "            column_desc[category][f'{field}-0.0'] = (fdesc, ftype)\n",
    "    \n",
    "print(f'{len(column_desc)} categories, total of {sum([len(fields) for fields in column_desc.values()])} columns')\n",
    "print('===================================')\n",
    "for category, cols in column_desc.items():\n",
    "    print(f'{category}: {len(cols)} columns')"
   ]
  },
  {
   "cell_type": "code",
   "execution_count": 4,
   "metadata": {},
   "outputs": [],
   "source": [
    "filtered_columns = [\n",
    "    col\n",
    "    for cols in column_desc.values()\n",
    "    for col in cols\n",
    "]"
   ]
  },
  {
   "attachments": {},
   "cell_type": "markdown",
   "metadata": {},
   "source": [
    "Read my data"
   ]
  },
  {
   "cell_type": "code",
   "execution_count": 5,
   "metadata": {},
   "outputs": [
    {
     "data": {
      "text/plain": [
       "(26314, 26314)"
      ]
     },
     "execution_count": 5,
     "metadata": {},
     "output_type": "execute_result"
    }
   ],
   "source": [
    "df_sick = pd.read_csv('data/sick_data.csv', \n",
    "                      usecols=['eid'] + filtered_columns, \n",
    "                      index_col=['eid'])\n",
    "df_healthy = pd.read_csv('data/my_data.csv', \n",
    "                         usecols=['eid'] + filtered_columns, \n",
    "                         index_col=['eid'],\n",
    "                         nrows=2 * len(df_sick))\n",
    "df_healthy = df_healthy.loc[list(set(eid_healthy) & set(df_healthy.index))[:len(df_sick)]]\n",
    "\n",
    "len(df_sick), len(df_healthy)"
   ]
  },
  {
   "cell_type": "code",
   "execution_count": 6,
   "metadata": {},
   "outputs": [],
   "source": [
    "df_sick['diagnosis'] = 1\n",
    "df_healthy['diagnosis'] = 0\n",
    "df_raw = pd.concat([df_sick, df_healthy])"
   ]
  },
  {
   "cell_type": "code",
   "execution_count": 7,
   "metadata": {},
   "outputs": [
    {
     "data": {
      "text/plain": [
       "(42628, 4737, 5263)"
      ]
     },
     "execution_count": 7,
     "metadata": {},
     "output_type": "execute_result"
    }
   ],
   "source": [
    "eid_train, eid_test = train_test_split(df_raw.index.to_list(), test_size=0.1, random_state=42)\n",
    "eid_train, eid_val = train_test_split(eid_train, test_size=0.1, random_state=42)\n",
    "\n",
    "len(eid_train), len(eid_val), len(eid_test)"
   ]
  },
  {
   "attachments": {},
   "cell_type": "markdown",
   "metadata": {},
   "source": [
    "### Impute missing & negative values"
   ]
  },
  {
   "cell_type": "code",
   "execution_count": 9,
   "metadata": {},
   "outputs": [
    {
     "name": "stdout",
     "output_type": "stream",
     "text": [
      "\n",
      "Physical activity\n",
      "1100-0.0     1868\n",
      "2634-0.0    32389\n",
      "1021-0.0    28641\n",
      "894-0.0     14801\n",
      "3647-0.0    30357\n",
      "1001-0.0    48309\n",
      "914-0.0     25935\n",
      "874-0.0      8400\n",
      "981-0.0     17433\n",
      "2624-0.0    32453\n",
      "1011-0.0    28523\n",
      "3637-0.0    30376\n",
      "943-0.0      1247\n",
      "991-0.0     48311\n",
      "971-0.0     17427\n",
      "884-0.0      3159\n",
      "904-0.0      3253\n",
      "864-0.0      1397\n",
      "1090-0.0     1172\n",
      "1080-0.0     1126\n",
      "1070-0.0      628\n",
      "6164-0.0     5093\n",
      "6162-0.0     1071\n",
      "924-0.0       658\n",
      "dtype: int64\n",
      "\n",
      "Sleep\n",
      "1160-0.0     499\n",
      "1170-0.0     677\n",
      "1180-0.0    6445\n",
      "1190-0.0     212\n",
      "1200-0.0     185\n",
      "1210-0.0    3897\n",
      "1220-0.0     472\n",
      "dtype: int64\n",
      "\n",
      "Smoking\n",
      "20160-0.0      376\n",
      "20162-0.0    33819\n",
      "20161-0.0    33819\n",
      "20116-0.0      389\n",
      "1239-0.0       163\n",
      "1249-0.0      4969\n",
      "2644-0.0     40178\n",
      "3436-0.0     48079\n",
      "3456-0.0     48410\n",
      "3466-0.0     48451\n",
      "3476-0.0     48436\n",
      "3486-0.0     48057\n",
      "3496-0.0     48160\n",
      "3506-0.0     48050\n",
      "6158-0.0     51109\n",
      "2867-0.0     36981\n",
      "2877-0.0     36927\n",
      "2887-0.0     38009\n",
      "2897-0.0     36998\n",
      "2907-0.0     37278\n",
      "6157-0.0     40007\n",
      "2926-0.0     38545\n",
      "2936-0.0     37434\n",
      "1259-0.0      5204\n",
      "1269-0.0      5915\n",
      "1279-0.0      9291\n",
      "dtype: int64\n",
      "\n",
      "Diet\n",
      "1289-0.0      899\n",
      "1299-0.0      929\n",
      "1309-0.0      386\n",
      "1319-0.0      793\n",
      "1329-0.0      499\n",
      "1339-0.0      441\n",
      "1349-0.0      264\n",
      "1359-0.0      263\n",
      "1369-0.0      385\n",
      "1379-0.0      557\n",
      "1389-0.0      539\n",
      "3680-0.0    51023\n",
      "1408-0.0     1748\n",
      "1418-0.0      186\n",
      "1428-0.0      687\n",
      "2654-0.0    23842\n",
      "1438-0.0     1282\n",
      "1448-0.0     2087\n",
      "1458-0.0      368\n",
      "1468-0.0     9378\n",
      "1478-0.0      144\n",
      "1488-0.0      266\n",
      "1498-0.0      287\n",
      "1508-0.0    12684\n",
      "1518-0.0      661\n",
      "1528-0.0      557\n",
      "1538-0.0      251\n",
      "1548-0.0      832\n",
      "dtype: int64\n",
      "\n",
      "Alcohol\n",
      "20117-0.0      202\n",
      "1558-0.0       182\n",
      "3731-0.0     47737\n",
      "4407-0.0     48384\n",
      "4418-0.0     48392\n",
      "4429-0.0     48376\n",
      "4440-0.0     48388\n",
      "4451-0.0     48371\n",
      "4462-0.0     48368\n",
      "1568-0.0     17268\n",
      "1578-0.0     17291\n",
      "1588-0.0     17176\n",
      "1598-0.0     17314\n",
      "1608-0.0     17210\n",
      "5364-0.0     40568\n",
      "1618-0.0     26577\n",
      "1628-0.0      5418\n",
      "2664-0.0     31960\n",
      "3859-0.0     50435\n",
      "dtype: int64\n",
      "\n",
      "Chest pain\n",
      "2335-0.0      853\n",
      "3606-0.0    39342\n",
      "3616-0.0    45312\n",
      "3751-0.0    43709\n",
      "dtype: int64\n",
      "\n",
      "Blood pressure\n",
      "4079-0.0     3618\n",
      "94-0.0      49150\n",
      "4081-0.0      134\n",
      "95-0.0      49150\n",
      "102-0.0      3618\n",
      "4080-0.0     3621\n",
      "93-0.0      49150\n",
      "96-0.0        104\n",
      "dtype: int64\n",
      "\n",
      "Arterial stiffness\n",
      "4204-0.0     34505\n",
      "4199-0.0     34505\n",
      "4198-0.0     34505\n",
      "4200-0.0     34505\n",
      "4194-0.0     34505\n",
      "21021-0.0    34637\n",
      "4196-0.0     34518\n",
      "4195-0.0     34505\n",
      "dtype: int64\n",
      "\n",
      "Body size measures\n",
      "48-0.0       253\n",
      "21002-0.0    331\n",
      "21001-0.0    385\n",
      "49-0.0       256\n",
      "50-0.0       308\n",
      "51-0.0       759\n",
      "20015-0.0    759\n",
      "3077-0.0     759\n",
      "dtype: int64\n",
      "\n",
      "Blood count\n",
      "30160-0.0    2608\n",
      "30220-0.0    2607\n",
      "30150-0.0    2608\n",
      "30210-0.0    2607\n",
      "30030-0.0    2533\n",
      "30020-0.0    2533\n",
      "30300-0.0    3341\n",
      "30290-0.0    3341\n",
      "30280-0.0    3341\n",
      "30120-0.0    2608\n",
      "30180-0.0    2607\n",
      "30050-0.0    2533\n",
      "30060-0.0    2534\n",
      "30040-0.0    2534\n",
      "30100-0.0    2533\n",
      "30260-0.0    3341\n",
      "30270-0.0    3341\n",
      "30130-0.0    2608\n",
      "30190-0.0    2607\n",
      "30140-0.0    2608\n",
      "30200-0.0    2607\n",
      "30170-0.0    2609\n",
      "30230-0.0    2609\n",
      "30080-0.0    2533\n",
      "30090-0.0    2533\n",
      "30110-0.0    2533\n",
      "30010-0.0    2533\n",
      "30070-0.0    2534\n",
      "30250-0.0    3341\n",
      "30240-0.0    3341\n",
      "30000-0.0    2534\n",
      "dtype: int64\n",
      "\n",
      "Blood biochemistry\n",
      "30620-0.0     3474\n",
      "30600-0.0     7466\n",
      "30610-0.0     3438\n",
      "30630-0.0     7646\n",
      "30640-0.0     3758\n",
      "30650-0.0     3662\n",
      "30710-0.0     3560\n",
      "30680-0.0     7484\n",
      "30690-0.0     3442\n",
      "30700-0.0     3472\n",
      "30720-0.0     3443\n",
      "30660-0.0    10006\n",
      "30730-0.0     3476\n",
      "30740-0.0     7520\n",
      "30750-0.0     3774\n",
      "30760-0.0     7488\n",
      "30770-0.0     3712\n",
      "30780-0.0     3530\n",
      "30790-0.0    14152\n",
      "30800-0.0    46188\n",
      "30810-0.0     7561\n",
      "30820-0.0    48291\n",
      "30830-0.0     7884\n",
      "30850-0.0     7396\n",
      "30840-0.0     3692\n",
      "30860-0.0     7523\n",
      "30870-0.0     3492\n",
      "30880-0.0     3493\n",
      "30670-0.0     3483\n",
      "30890-0.0     5553\n",
      "dtype: int64\n"
     ]
    }
   ],
   "source": [
    "column_missing_values = pd.Series()\n",
    "\n",
    "for category, cols in column_desc.items():\n",
    "    print()\n",
    "    print(category)\n",
    "    nulls = df_raw[cols.keys()].isna().sum(axis=0)\n",
    "    negs = (np.logical_and(df_raw[cols.keys()] < 0, df_raw[cols.keys()] > -10)).sum(axis=0)\n",
    "    print(negs + nulls)\n",
    "    \n",
    "    column_missing_values = pd.concat([column_missing_values, nulls + negs])"
   ]
  },
  {
   "cell_type": "code",
   "execution_count": 10,
   "metadata": {},
   "outputs": [
    {
     "name": "stdout",
     "output_type": "stream",
     "text": [
      "taking only columns with less than 5000 missing values, we are left with 107 columns\n",
      "taking only columns with less than 10000 missing values, we are left with 125 columns\n",
      "taking only columns with less than 15000 missing values, we are left with 129 columns\n",
      "taking only columns with less than 20000 missing values, we are left with 136 columns\n",
      "taking only columns with less than 25000 missing values, we are left with 137 columns\n",
      "taking only columns with less than 30000 missing values, we are left with 141 columns\n",
      "taking only columns with less than 35000 missing values, we are left with 156 columns\n",
      "taking only columns with less than 40000 missing values, we are left with 164 columns\n",
      "taking only columns with less than 45000 missing values, we are left with 168 columns\n",
      "taking only columns with less than 50000 missing values, we are left with 190 columns\n"
     ]
    }
   ],
   "source": [
    "for missing_th in range(5000, 50001, 5000):\n",
    "    print(f'taking only columns with less than {missing_th} missing values, we are left with {len(column_missing_values[column_missing_values < missing_th])} columns')"
   ]
  },
  {
   "cell_type": "code",
   "execution_count": 11,
   "metadata": {},
   "outputs": [],
   "source": [
    "df_raw[df_raw == -10] = 0\n",
    "df_raw[df_raw < 0] = np.nan"
   ]
  },
  {
   "cell_type": "code",
   "execution_count": 47,
   "metadata": {},
   "outputs": [],
   "source": [
    "common_columns = column_missing_values[column_missing_values < len(df_raw) // 5].index.to_list() + ['diagnosis']\n",
    "\n",
    "df_full = df_raw[common_columns].copy()\n",
    "\n",
    "imputer = SimpleImputer(strategy='most_frequent').fit(df_full.loc[eid_train])\n",
    "\n",
    "df_full.loc[eid_train] = imputer.transform(df_full.loc[eid_train])\n",
    "df_full.loc[eid_val] = imputer.transform(df_full.loc[eid_val])"
   ]
  },
  {
   "cell_type": "code",
   "execution_count": 48,
   "metadata": {},
   "outputs": [
    {
     "data": {
      "text/plain": [
       "127"
      ]
     },
     "execution_count": 48,
     "metadata": {},
     "output_type": "execute_result"
    }
   ],
   "source": [
    "len(df_full.columns)"
   ]
  },
  {
   "attachments": {},
   "cell_type": "markdown",
   "metadata": {},
   "source": [
    "### Correlation"
   ]
  },
  {
   "cell_type": "code",
   "execution_count": 50,
   "metadata": {},
   "outputs": [
    {
     "data": {
      "text/plain": [
       "(0.0016186505810193237, 0.2810050930726125)"
      ]
     },
     "execution_count": 50,
     "metadata": {},
     "output_type": "execute_result"
    }
   ],
   "source": [
    "column_target_corr = abs(df_full.drop(columns=['diagnosis']).apply(lambda x: x.corr(df_full['diagnosis'])))\n",
    "min(column_target_corr), max(column_target_corr)"
   ]
  },
  {
   "cell_type": "code",
   "execution_count": 51,
   "metadata": {},
   "outputs": [
    {
     "name": "stdout",
     "output_type": "stream",
     "text": [
      "[0.002  0.0265 0.051  0.0755 0.1   ] [125, 90, 66, 56, 42]\n"
     ]
    }
   ],
   "source": [
    "curr_ths = np.linspace(0.002, 0.1, 5)\n",
    "num_columns = [len(column_target_corr[column_target_corr > curr_th]) for curr_th in curr_ths]\n",
    "\n",
    "print(curr_ths, num_columns)"
   ]
  },
  {
   "cell_type": "code",
   "execution_count": 53,
   "metadata": {},
   "outputs": [
    {
     "data": {
      "image/png": "[encoded data removed]",
      "text/plain": [
       "<Figure size 640x480 with 1 Axes>"
      ]
     },
     "metadata": {},
     "output_type": "display_data"
    }
   ],
   "source": [
    "plt.scatter(curr_ths, num_columns)\n",
    "plt.xlabel(\"Correlation TH\")\n",
    "plt.ylabel(\"Num Columns\")\n",
    "plt.yticks(np.arange(0,140,20))\n",
    "plt.show()"
   ]
  },
  {
   "cell_type": "code",
   "execution_count": 54,
   "metadata": {},
   "outputs": [],
   "source": [
    "def classify(df):\n",
    "\n",
    "    X_train = df.loc[eid_train].drop(columns=['diagnosis'])\n",
    "    y_train = df.loc[eid_train]['diagnosis']\n",
    "    X_val = df.loc[eid_val].drop(columns=['diagnosis'])\n",
    "    y_val = df.loc[eid_val]['diagnosis']\n",
    "\n",
    "    classifiers = {\n",
    "        \"LOG-REG\": LogisticRegression(solver='liblinear',max_iter=1000),\n",
    "        \"MLP\": MLPClassifier(hidden_layer_sizes=[50, 50],max_iter=1000),\n",
    "        \"FOREST\": RandomForestClassifier(max_depth=8, n_estimators=70),\n",
    "        \"ADA\": AdaBoostClassifier(learning_rate=0.1,n_estimators=100),\n",
    "        \"XGB\": XGBClassifier(eta=0.1,max_depth=8)\n",
    "    }\n",
    "\n",
    "    for name, clf in classifiers.items():\n",
    "        print(f'{name}')\n",
    "        clf.fit(X_train, y_train)\n",
    "        print(F'\\ttrain score: {100 * clf.score(X_train, y_train):.3f} f1: {f1_score(y_train, clf.predict(X_train)):.3f}, auc: {roc_auc_score(y_train, clf.predict(X_train)):.3f}') \n",
    "        print(f'\\tval score: {100 * clf.score(X_val, y_val):.3f}, f1: {f1_score(y_val, clf.predict(X_val)):.3f}, auc: {roc_auc_score(y_val, clf.predict(X_val)):.3f}')"
   ]
  },
  {
   "cell_type": "code",
   "execution_count": 55,
   "metadata": {},
   "outputs": [
    {
     "name": "stdout",
     "output_type": "stream",
     "text": [
      "===============\n",
      "COLUMNS = 125\n",
      "===============\n",
      "LOG-REG\n",
      "\ttrain score: 72.267 f1: 0.720, auc: 0.723\n",
      "\tval score: 73.190, f1: 0.730, auc: 0.732\n",
      "MLP\n",
      "\ttrain score: 74.031 f1: 0.739, auc: 0.740\n",
      "\tval score: 72.746, f1: 0.726, auc: 0.727\n",
      "FOREST\n",
      "\ttrain score: 74.543 f1: 0.748, auc: 0.745\n",
      "\tval score: 70.783, f1: 0.712, auc: 0.708\n",
      "ADA\n",
      "\ttrain score: 71.233 f1: 0.709, auc: 0.712\n",
      "\tval score: 71.269, f1: 0.712, auc: 0.713\n",
      "XGB\n",
      "\ttrain score: 90.365 f1: 0.903, auc: 0.904\n",
      "\tval score: 73.169, f1: 0.732, auc: 0.732\n",
      "===============\n",
      "COLUMNS = 90\n",
      "===============\n",
      "LOG-REG\n",
      "\ttrain score: 72.154 f1: 0.718, auc: 0.722\n",
      "\tval score: 72.620, f1: 0.725, auc: 0.726\n",
      "MLP\n",
      "\ttrain score: 70.876 f1: 0.738, auc: 0.709\n",
      "\tval score: 71.163, f1: 0.742, auc: 0.711\n",
      "FOREST\n",
      "\ttrain score: 74.634 f1: 0.747, auc: 0.746\n",
      "\tval score: 70.783, f1: 0.712, auc: 0.708\n",
      "ADA\n",
      "\ttrain score: 71.233 f1: 0.709, auc: 0.712\n",
      "\tval score: 71.269, f1: 0.712, auc: 0.713\n",
      "XGB\n",
      "\ttrain score: 89.397 f1: 0.893, auc: 0.894\n",
      "\tval score: 72.430, f1: 0.726, auc: 0.724\n",
      "===============\n",
      "COLUMNS = 66\n",
      "===============\n",
      "LOG-REG\n",
      "\ttrain score: 71.798 f1: 0.714, auc: 0.718\n",
      "\tval score: 72.620, f1: 0.725, auc: 0.726\n",
      "MLP\n",
      "\ttrain score: 73.055 f1: 0.726, auc: 0.731\n",
      "\tval score: 72.303, f1: 0.719, auc: 0.723\n",
      "FOREST\n",
      "\ttrain score: 74.336 f1: 0.743, auc: 0.743\n",
      "\tval score: 71.205, f1: 0.714, auc: 0.712\n",
      "ADA\n",
      "\ttrain score: 71.188 f1: 0.708, auc: 0.712\n",
      "\tval score: 71.248, f1: 0.712, auc: 0.712\n",
      "XGB\n",
      "\ttrain score: 87.614 f1: 0.875, auc: 0.876\n",
      "\tval score: 72.936, f1: 0.732, auc: 0.729\n",
      "===============\n",
      "COLUMNS = 56\n",
      "===============\n",
      "LOG-REG\n",
      "\ttrain score: 71.758 f1: 0.714, auc: 0.718\n",
      "\tval score: 72.113, f1: 0.718, auc: 0.721\n",
      "MLP\n",
      "\ttrain score: 71.533 f1: 0.689, auc: 0.715\n",
      "\tval score: 71.395, f1: 0.690, auc: 0.714\n",
      "FOREST\n",
      "\ttrain score: 74.458 f1: 0.745, auc: 0.745\n",
      "\tval score: 70.931, f1: 0.714, auc: 0.709\n",
      "ADA\n",
      "\ttrain score: 71.188 f1: 0.708, auc: 0.712\n",
      "\tval score: 71.248, f1: 0.712, auc: 0.712\n",
      "XGB\n",
      "\ttrain score: 86.640 f1: 0.865, auc: 0.866\n",
      "\tval score: 72.176, f1: 0.724, auc: 0.722\n",
      "===============\n",
      "COLUMNS = 42\n",
      "===============\n",
      "LOG-REG\n",
      "\ttrain score: 71.033 f1: 0.706, auc: 0.710\n",
      "\tval score: 71.522, f1: 0.713, auc: 0.715\n",
      "MLP\n",
      "\ttrain score: 70.139 f1: 0.733, auc: 0.701\n",
      "\tval score: 69.981, f1: 0.733, auc: 0.699\n",
      "FOREST\n",
      "\ttrain score: 74.343 f1: 0.743, auc: 0.743\n",
      "\tval score: 70.910, f1: 0.712, auc: 0.709\n",
      "ADA\n",
      "\ttrain score: 71.040 f1: 0.707, auc: 0.710\n",
      "\tval score: 70.868, f1: 0.708, auc: 0.709\n",
      "XGB\n",
      "\ttrain score: 85.953 f1: 0.859, auc: 0.860\n",
      "\tval score: 72.008, f1: 0.723, auc: 0.720\n"
     ]
    }
   ],
   "source": [
    "for curr_th, num_cols in zip(curr_ths, num_columns):\n",
    "    print(\"===============\")\n",
    "    print(f\"COLUMNS = {num_cols}\")\n",
    "    print(\"===============\")\n",
    "    \n",
    "    classify(df_full[column_target_corr[column_target_corr > curr_th].index.to_list() + ['diagnosis']])"
   ]
  },
  {
   "cell_type": "markdown",
   "metadata": {},
   "source": [
    "### SHAP"
   ]
  },
  {
   "cell_type": "code",
   "execution_count": 56,
   "metadata": {},
   "outputs": [],
   "source": [
    "c_desc = {\n",
    "    c: cdesc\n",
    "    for cols in column_desc.values()\n",
    "    for c, (cdesc, _) in cols.items()\n",
    "}"
   ]
  },
  {
   "cell_type": "code",
   "execution_count": null,
   "metadata": {},
   "outputs": [],
   "source": [
    "set(column_desc['Blood biochemistry'].keys()) & (df_full)"
   ]
  },
  {
   "cell_type": "code",
   "execution_count": 66,
   "metadata": {},
   "outputs": [
    {
     "data": {
      "image/png": "[encoded data removed]",
      "text/plain": [
       "<Figure size 800x950 with 1 Axes>"
      ]
     },
     "metadata": {},
     "output_type": "display_data"
    }
   ],
   "source": [
    "np.bool = np.bool_\n",
    "feature_names = [c_desc[col] for col in df_full.columns[:-1]]\n",
    "\n",
    "X_train = StandardScaler().fit_transform(df_full.loc[eid_train].drop(columns=['diagnosis']))\n",
    "\n",
    "forest = RandomForestClassifier(max_depth=8, min_samples_split=9, n_estimators=70).fit(X_train, df_full.loc[eid_train]['diagnosis'])\n",
    "\n",
    "explainer_forest = shap.TreeExplainer(forest)\n",
    "shap_vals_forest = explainer_forest.shap_values(X_train)\n",
    "\n",
    "shap.summary_plot(shap_vals_forest, feature_names=feature_names)"
   ]
  },
  {
   "cell_type": "code",
   "execution_count": 71,
   "metadata": {},
   "outputs": [],
   "source": [
    "shap_columns = [\n",
    "    '30850-0.0',\n",
    "    '2335-0.0',\n",
    "    '48-0.0',\n",
    "    '30690-0.0',\n",
    "    '30780-0.0',\n",
    "    '30750-0.0',\n",
    "    '30720-0.0',\n",
    "    '30760-0.0',\n",
    "    '30730-0.0',\n",
    "    '30700-0.0',\n",
    "    '30880-0.0',\n",
    "    '30630-0.0',\n",
    "    '924-0.0',\n",
    "    '1249-0.0',\n",
    "    '30640-0.0',\n",
    "    '4080-0.0',\n",
    "    '21002-0.0',\n",
    "    '20116-0.0',\n",
    "    '1190-0.0',\n",
    "    '21001-0.0',\n",
    "    'diagnosis'\n",
    "]\n",
    "\n",
    "df_shap = df_raw[shap_columns].dropna()\n",
    "\n",
    "eid_train_shap = list(set(df_shap.index.to_list()) & set(eid_train))\n",
    "eid_val_shap = list(set(df_shap.index.to_list()) & set(eid_val))\n",
    "\n",
    "scaler = StandardScaler().fit(df_shap.loc[eid_train_shap].drop(columns=['diagnosis']), df_shap['diagnosis'])\n",
    "\n",
    "X_train_shap = scaler.transform(df_shap.loc[eid_train_shap].drop(columns=['diagnosis']))\n",
    "y_train_shap = df_full.loc[eid_train_shap]['diagnosis']\n",
    "X_val_shap = scaler.transform(df_shap.loc[eid_val_shap].drop(columns=['diagnosis']))\n",
    "y_val_shap = df_full.loc[eid_val_shap]['diagnosis']"
   ]
  },
  {
   "cell_type": "code",
   "execution_count": 75,
   "metadata": {},
   "outputs": [
    {
     "name": "stdout",
     "output_type": "stream",
     "text": [
      "KNN\n",
      "\ttrain score: 73.260 f1: 0.723, auc: 0.733\n",
      "\tval score: 69.960, f1: 0.688, auc: 0.700\n",
      "SVM\n",
      "\ttrain score: 74.732 f1: 0.750, auc: 0.747\n",
      "\tval score: 72.117, f1: 0.727, auc: 0.721\n",
      "LR\n",
      "\ttrain score: 71.573 f1: 0.716, auc: 0.716\n",
      "\tval score: 71.106, f1: 0.714, auc: 0.711\n",
      "MLP\n",
      "\ttrain score: 75.020 f1: 0.752, auc: 0.750\n",
      "\tval score: 71.544, f1: 0.718, auc: 0.715\n",
      "RF\n",
      "\ttrain score: 75.454 f1: 0.755, auc: 0.755\n",
      "\tval score: 71.342, f1: 0.716, auc: 0.713\n",
      "ADA\n",
      "\ttrain score: 71.912 f1: 0.719, auc: 0.719\n",
      "\tval score: 71.173, f1: 0.713, auc: 0.712\n",
      "XGBoost\n",
      "\ttrain score: 87.036 f1: 0.870, auc: 0.870\n",
      "\tval score: 71.612, f1: 0.718, auc: 0.716\n"
     ]
    }
   ],
   "source": [
    "names = [\n",
    "    \"KNN\",\n",
    "    \"SVM\",\n",
    "    \"LR\",\n",
    "    \"MLP\",\n",
    "    \"RF\",\n",
    "    \"ADA\",\n",
    "    \"XGBoost\"\n",
    "]\n",
    "\n",
    "classifiers = [\n",
    "    KNeighborsClassifier(20),\n",
    "    SVC(kernel=\"rbf\"),\n",
    "    LogisticRegression(solver='liblinear',max_iter=10000),\n",
    "    MLPClassifier(hidden_layer_sizes=[50],max_iter=1000),\n",
    "    RandomForestClassifier(max_depth=8, n_estimators=70),\n",
    "    AdaBoostClassifier(learning_rate=0.1,n_estimators=100),\n",
    "    XGBClassifier(eta=0.1,max_depth=8)\n",
    "    \n",
    "]\n",
    "\n",
    "for clf, name in zip(classifiers, names):\n",
    "    print(f'{name}')\n",
    "\n",
    "    clf.fit(X_train_shap, y_train_shap)\n",
    "    \n",
    "    print(F'\\ttrain score: {100 * clf.score(X_train_shap, y_train_shap):.3f} f1: {f1_score(y_train_shap, clf.predict(X_train_shap)):.3f}, auc: {roc_auc_score(y_train_shap, clf.predict(X_train_shap)):.3f}') \n",
    "    print(f'\\tval score: {100 * clf.score(X_val_shap, y_val_shap):.3f}, f1: {f1_score(y_val_shap, clf.predict(X_val_shap)):.3f}, auc: {roc_auc_score(y_val_shap, clf.predict(X_val_shap)):.3f}')"
   ]
  }
 ],
 "metadata": {
  "kernelspec": {
   "display_name": "bio-venv",
   "language": "python",
   "name": "python3"
  },
  "language_info": {
   "codemirror_mode": {
    "name": "ipython",
    "version": 3
   },
   "file_extension": ".py",
   "mimetype": "text/x-python",
   "name": "python",
   "nbconvert_exporter": "python",
   "pygments_lexer": "ipython3",
   "version": "3.10.7"
  },
  "orig_nbformat": 4
 },
 "nbformat": 4,
 "nbformat_minor": 2
}
