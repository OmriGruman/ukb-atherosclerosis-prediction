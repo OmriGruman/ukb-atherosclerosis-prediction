{
 "cells": [
  {
   "cell_type": "code",
   "execution_count": 1,
   "metadata": {},
   "outputs": [],
   "source": [
    "import pandas as pd"
   ]
  },
  {
   "cell_type": "code",
   "execution_count": 2,
   "metadata": {},
   "outputs": [
    {
     "data": {
      "text/plain": [
       "(26314, 476056)"
      ]
     },
     "execution_count": 2,
     "metadata": {},
     "output_type": "execute_result"
    }
   ],
   "source": [
    "with open(\"data/eid_sick\") as f:\n",
    "    eid_sick = list(map(int, f.read().split('\\n')))\n",
    "\n",
    "len(eid_sick)"
   ]
  },
  {
   "cell_type": "code",
   "execution_count": null,
   "metadata": {},
   "outputs": [],
   "source": [
    "with pd.read_csv(\"data/my_data.csv\", chunksize=16) as reader:\n",
    "    first = next(reader)\n",
    "    first[first['eid'].isin(eid_sick)].to_csv(\"data/sick_data.csv\", index=False)\n",
    "\n",
    "    for chunk in reader:\n",
    "        chunk[chunk['eid'].isin(eid_sick)].to_csv(\"data/sick_data.csv\", index=False, mode='a', header=False)"
   ]
  },
  {
   "cell_type": "code",
   "execution_count": 3,
   "metadata": {},
   "outputs": [],
   "source": [
    "with open('data/my_data.csv') as f:\n",
    "    content = f.read().split('\\n')[:-1]"
   ]
  },
  {
   "cell_type": "code",
   "execution_count": 20,
   "metadata": {},
   "outputs": [],
   "source": [
    "lines_sick = content[:1] + [line for line in content[1:] if int(line.split(',')[0]) in eid_sick]"
   ]
  },
  {
   "cell_type": "code",
   "execution_count": 22,
   "metadata": {},
   "outputs": [],
   "source": [
    "with open('data/sick_data_temp.csv', 'w') as f:\n",
    "    f.write('\\n'.join(lines_sick))"
   ]
  }
 ],
 "metadata": {
  "kernelspec": {
   "display_name": "bio-venv",
   "language": "python",
   "name": "python3"
  },
  "language_info": {
   "codemirror_mode": {
    "name": "ipython",
    "version": 3
   },
   "file_extension": ".py",
   "mimetype": "text/x-python",
   "name": "python",
   "nbconvert_exporter": "python",
   "pygments_lexer": "ipython3",
   "version": "3.10.7"
  },
  "orig_nbformat": 4
 },
 "nbformat": 4,
 "nbformat_minor": 2
}
