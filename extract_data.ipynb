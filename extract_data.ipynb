{
 "cells": [
  {
   "cell_type": "code",
   "execution_count": 1,
   "metadata": {},
   "outputs": [],
   "source": [
    "import json\n",
    "import pandas as pd\n",
    "\n",
    "with open('config.json', 'r') as json_file:\n",
    "    config = json.load(json_file)"
   ]
  },
  {
   "cell_type": "code",
   "execution_count": 3,
   "metadata": {},
   "outputs": [
    {
     "data": {
      "text/plain": [
       "787"
      ]
     },
     "execution_count": 3,
     "metadata": {},
     "output_type": "execute_result"
    }
   ],
   "source": [
    "with open('data/my_columns') as f:\n",
    "    selected_columns = f.read().split('\\n')\n",
    "\n",
    "len(selected_columns)"
   ]
  },
  {
   "cell_type": "code",
   "execution_count": null,
   "metadata": {},
   "outputs": [],
   "source": [
    "with pd.read_csv(config['all_data_file'], chunksize=16, usecols=['eid'] + selected_columns) as reader:\n",
    "    first = next(reader)\n",
    "    first.to_csv(\"data/my_data.csv\", index=False)\n",
    "\n",
    "    nrows = 0\n",
    "    nrows += len(first.index)\n",
    "    print(nrows)\n",
    "    \n",
    "    for chunk in reader:\n",
    "        chunk.to_csv(\"data/my_data.csv\", mode='a', header=False, index=False)\n",
    "        \n",
    "        nrows += len(first.index)\n",
    "        print(nrows)  "
   ]
  }
 ],
 "metadata": {
  "kernelspec": {
   "display_name": "bio-venv",
   "language": "python",
   "name": "python3"
  },
  "language_info": {
   "codemirror_mode": {
    "name": "ipython",
    "version": 3
   },
   "file_extension": ".py",
   "mimetype": "text/x-python",
   "name": "python",
   "nbconvert_exporter": "python",
   "pygments_lexer": "ipython3",
   "version": "3.10.7"
  },
  "orig_nbformat": 4
 },
 "nbformat": 4,
 "nbformat_minor": 2
}
