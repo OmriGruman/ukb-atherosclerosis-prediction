{
    "cells": [
        {
            "cell_type": "code",
            "execution_count": 1,
            "metadata": {},
            "outputs": [],
            "source": [
                "import numpy as np\n",
                "import pandas as pd\n",
                "\n",
                "from sklearn.preprocessing import StandardScaler\n",
                "from sklearn.model_selection import train_test_split\n",
                "from sklearn.metrics import f1_score, roc_auc_score\n",
                "\n",
                "from sklearn.linear_model import LogisticRegression"
            ]
        },
        {
            "attachments": {},
            "cell_type": "markdown",
            "metadata": {},
            "source": [
                "Load sick and healthy patients"
            ]
        },
        {
            "cell_type": "code",
            "execution_count": 2,
            "metadata": {},
            "outputs": [
                {
                    "data": {
                        "text/plain": [
                            "(26314, 476056)"
                        ]
                    },
                    "execution_count": 2,
                    "metadata": {},
                    "output_type": "execute_result"
                }
            ],
            "source": [
                "with open(\"data/eid_sick\") as f:\n",
                "    eid_sick = list(map(int, f.read().split('\\n')))\n",
                "\n",
                "with open(\"data/eid_healthy\") as f:\n",
                "    eid_healthy = list(map(int, f.read().split('\\n')))\n",
                "\n",
                "len(eid_sick), len(eid_healthy)"
            ]
        },
        {
            "attachments": {},
            "cell_type": "markdown",
            "metadata": {},
            "source": [
                "Load column descriptions"
            ]
        },
        {
            "cell_type": "code",
            "execution_count": 3,
            "metadata": {},
            "outputs": [
                {
                    "name": "stdout",
                    "output_type": "stream",
                    "text": [
                        "1 categories, total of 249 columns\n",
                        "===================================\n",
                        "NMR: 249 columns\n"
                    ]
                }
            ],
            "source": [
                "column_desc = {}\n",
                "\n",
                "with open('data/my_nmr_fields') as f:\n",
                "    nmr_fields = [field.split('\\t') for field in f.read().split('\\n')]    \n",
                "    column_desc['NMR'] = {f'{fid}-0.0': finfo for fid, finfo in nmr_fields}\n",
                "\n",
                "\n",
                "print(f'{len(column_desc)} categories, total of {sum([len(fields) for fields in column_desc.values()])} columns')\n",
                "print('===================================')\n",
                "for category, cols in column_desc.items():\n",
                "    print(f'{category}: {len(cols)} columns')\n",
                "    \n",
                "nmr_columns = list(column_desc['NMR'].keys())"
            ]
        },
        {
            "attachments": {},
            "cell_type": "markdown",
            "metadata": {},
            "source": [
                "Read my data"
            ]
        },
        {
            "cell_type": "code",
            "execution_count": 4,
            "metadata": {},
            "outputs": [
                {
                    "data": {
                        "text/plain": [
                            "(26314, 26314)"
                        ]
                    },
                    "execution_count": 4,
                    "metadata": {},
                    "output_type": "execute_result"
                }
            ],
            "source": [
                "df_nmr_sick = pd.read_csv('data/sick_nmr_data.csv', \n",
                "                      usecols=['eid'] + nmr_columns, \n",
                "                      index_col=['eid'])\n",
                "df_nmr_healthy = pd.read_csv('data/my_nmr_data.csv', \n",
                "                         usecols=['eid'] + nmr_columns, \n",
                "                         index_col=['eid'],\n",
                "                         nrows=2 * len(df_nmr_sick))\n",
                "df_nmr_healthy = df_nmr_healthy.loc[list(set(eid_healthy) & set(df_nmr_healthy.index))[:len(df_nmr_sick)]]\n",
                "\n",
                "len(df_nmr_sick), len(df_nmr_healthy)"
            ]
        },
        {
            "cell_type": "code",
            "execution_count": 5,
            "metadata": {},
            "outputs": [],
            "source": [
                "df_nmr_sick['diagnosis'] = 1\n",
                "df_nmr_healthy['diagnosis'] = 0\n",
                "df_raw = pd.concat([df_nmr_sick, df_nmr_healthy])\n",
                "\n",
                "df_raw[df_raw == -10] = 0\n",
                "df_raw[df_raw < 0] = np.nan"
            ]
        },
        {
            "cell_type": "code",
            "execution_count": 6,
            "metadata": {},
            "outputs": [
                {
                    "data": {
                        "text/plain": [
                            "(42628, 4737, 5263)"
                        ]
                    },
                    "execution_count": 6,
                    "metadata": {},
                    "output_type": "execute_result"
                }
            ],
            "source": [
                "eid_train, eid_test = train_test_split(df_raw.index.to_list(), test_size=0.1, random_state=42)\n",
                "eid_train, eid_val = train_test_split(eid_train, test_size=0.1, random_state=42)\n",
                "\n",
                "len(eid_train), len(eid_val), len(eid_test)"
            ]
        },
        {
            "cell_type": "code",
            "execution_count": 7,
            "metadata": {},
            "outputs": [
                {
                    "name": "stdout",
                    "output_type": "stream",
                    "text": [
                        "23474-0.0    24302\n",
                        "23475-0.0    23766\n",
                        "23476-0.0    23753\n",
                        "23477-0.0    23753\n",
                        "23460-0.0    23761\n",
                        "             ...  \n",
                        "23588-0.0    24012\n",
                        "23608-0.0    23754\n",
                        "23469-0.0    23779\n",
                        "23403-0.0    23754\n",
                        "23467-0.0    23771\n",
                        "Length: 249, dtype: int64\n"
                    ]
                }
            ],
            "source": [
                "nulls = df_raw[nmr_columns].isna().sum(axis=0)\n",
                "print(nulls)"
            ]
        },
        {
            "cell_type": "code",
            "execution_count": 9,
            "metadata": {},
            "outputs": [
                {
                    "data": {
                        "text/plain": [
                            "0"
                        ]
                    },
                    "execution_count": 9,
                    "metadata": {},
                    "output_type": "execute_result"
                }
            ],
            "source": [
                "df_raw.dropna(inplace=True)\n",
                "df_raw.isna().sum().sum()"
            ]
        },
        {
            "cell_type": "code",
            "execution_count": 10,
            "metadata": {},
            "outputs": [],
            "source": [
                "df_train, df_test = train_test_split(df_raw, test_size=0.1, random_state=42) \n",
                "df_train, df_val = train_test_split(df_train, test_size=0.1, random_state=42) "
            ]
        },
        {
            "cell_type": "code",
            "execution_count": 11,
            "metadata": {},
            "outputs": [
                {
                    "data": {
                        "text/plain": [
                            "((10850, 21314), (1179, 2369), (1346, 2632))"
                        ]
                    },
                    "execution_count": 11,
                    "metadata": {},
                    "output_type": "execute_result"
                }
            ],
            "source": [
                "X_train = df_train.drop(columns=['diagnosis'])\n",
                "X_val = df_val.drop(columns=['diagnosis'])\n",
                "X_test = df_test.drop(columns=['diagnosis'])\n",
                "\n",
                "scaler = StandardScaler().fit(X_train)\n",
                "\n",
                "X_train = scaler.transform(X_train)\n",
                "X_val = scaler.transform(X_val)\n",
                "X_test = scaler.transform(X_test)\n",
                "\n",
                "y_train = df_train['diagnosis']\n",
                "y_val = df_val['diagnosis']\n",
                "y_test = df_test['diagnosis']\n",
                "\n",
                "(\n",
                "    (y_train.sum(), len(y_train)),\n",
                "    (y_val.sum(), len(y_val)),\n",
                "    (y_test.sum(), len(y_test))\n",
                ")"
            ]
        },
        {
            "cell_type": "code",
            "execution_count": 13,
            "metadata": {},
            "outputs": [],
            "source": [
                "lr = LogisticRegression(C=0.1, max_iter=2000) .fit(X_train, y_train)"
            ]
        },
        {
            "cell_type": "code",
            "execution_count": 14,
            "metadata": {},
            "outputs": [
                {
                    "data": {
                        "text/plain": [
                            "0.6935415787252005"
                        ]
                    },
                    "execution_count": 14,
                    "metadata": {},
                    "output_type": "execute_result"
                }
            ],
            "source": []
        },
        {
            "cell_type": "code",
            "execution_count": 16,
            "metadata": {},
            "outputs": [
                {
                    "data": {
                        "text/plain": [
                            "(0.6935415787252005,\n",
                            " 0.6869300911854104,\n",
                            " 0.6894781864841745,\n",
                            " 0.6963890935887989,\n",
                            " 0.7648398799723451,\n",
                            " 0.7524356482775991)"
                        ]
                    },
                    "execution_count": 16,
                    "metadata": {},
                    "output_type": "execute_result"
                }
            ],
            "source": [
                "(\n",
                "    lr.score(X_val, y_val),\n",
                "    lr.score(X_test, y_test),\n",
                "    f1_score(y_true=y_val, y_pred=lr.predict(X_val)), \n",
                "    f1_score(y_true=y_test, y_pred=lr.predict(X_test)),\n",
                "    roc_auc_score(y_true=y_val, y_score=lr.predict_proba(X_val)[:, 1]) ,\n",
                "    roc_auc_score(y_true=y_test, y_score=lr.predict_proba(X_test)[:, 1]) \n",
                ")"
            ]
        }
    ],
    "metadata": {
        "kernelspec": {
            "display_name": "bio-venv",
            "language": "python",
            "name": "python3"
        },
        "language_info": {
            "codemirror_mode": {
                "name": "ipython",
                "version": 3
            },
            "file_extension": ".py",
            "mimetype": "text/x-python",
            "name": "python",
            "nbconvert_exporter": "python",
            "pygments_lexer": "ipython3",
            "version": "3.10.7"
        },
        "orig_nbformat": 4
    },
    "nbformat": 4,
    "nbformat_minor": 2
}
