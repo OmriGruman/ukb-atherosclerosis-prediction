{
 "cells": [
  {
   "cell_type": "code",
   "execution_count": null,
   "metadata": {},
   "outputs": [],
   "source": [
    "import numpy as np\n",
    "import pandas as pd\n",
    "import matplotlib.pyplot as plt\n",
    "import seaborn as sns\n",
    "\n",
    "from sklearn.preprocessing import StandardScaler\n",
    "from sklearn.impute import SimpleImputer\n",
    "from sklearn.feature_selection import mutual_info_classif\n",
    "from sklearn.model_selection import train_test_split\n",
    "from sklearn.metrics import f1_score, roc_auc_score\n",
    "\n",
    "from sklearn.linear_model import LogisticRegression\n",
    "from sklearn.neural_network import MLPClassifier\n",
    "from sklearn.tree import DecisionTreeClassifier\n",
    "from sklearn.ensemble import RandomForestClassifier, AdaBoostClassifier\n",
    "from xgboost import XGBClassifier\n",
    "\n",
    "import shap"
   ]
  },
  {
   "attachments": {},
   "cell_type": "markdown",
   "metadata": {},
   "source": [
    "Load sick and healthy patients"
   ]
  },
  {
   "cell_type": "code",
   "execution_count": 2,
   "metadata": {},
   "outputs": [
    {
     "data": {
      "text/plain": [
       "(26314, 476056)"
      ]
     },
     "execution_count": 2,
     "metadata": {},
     "output_type": "execute_result"
    }
   ],
   "source": [
    "with open(\"data/eid_sick\") as f:\n",
    "    eid_sick = list(map(int, f.read().split('\\n')))\n",
    "\n",
    "with open(\"data/eid_healthy\") as f:\n",
    "    eid_healthy = list(map(int, f.read().split('\\n')))\n",
    "\n",
    "len(eid_sick), len(eid_healthy)"
   ]
  },
  {
   "attachments": {},
   "cell_type": "markdown",
   "metadata": {},
   "source": [
    "Load column descriptions"
   ]
  },
  {
   "cell_type": "code",
   "execution_count": 3,
   "metadata": {},
   "outputs": [
    {
     "name": "stdout",
     "output_type": "stream",
     "text": [
      "11 categories, total of 193 columns\n",
      "===================================\n",
      "Physical activity: 24 columns\n",
      "Sleep: 7 columns\n",
      "Smoking: 26 columns\n",
      "Diet: 28 columns\n",
      "Alcohol: 19 columns\n",
      "Chest pain: 4 columns\n",
      "Blood pressure: 8 columns\n",
      "Arterial stiffness: 8 columns\n",
      "Body size measures: 8 columns\n",
      "Blood count: 31 columns\n",
      "Blood biochemistry: 30 columns\n"
     ]
    }
   ],
   "source": [
    "column_desc = {}\n",
    "\n",
    "with open(\"data/my_columns\") as f:\n",
    "    my_columns = f.read().split('\\n')\n",
    "\n",
    "with open(\"data/filtered_fields\") as f:\n",
    "    lines = f.read().split('\\n')\n",
    "    category = ''\n",
    "    \n",
    "    for line in lines:\n",
    "        if line == '':\n",
    "            continue\n",
    "        \n",
    "        # New category\n",
    "        if line[0] == '#':\n",
    "            category = line.split(' - ')[-1]\n",
    "            column_desc[category] = {}\n",
    "            \n",
    "        # Fill category\n",
    "        else:\n",
    "            field, fdesc, ftype = line.split('\\t')\n",
    "            column_desc[category][f'{field}-0.0'] = (fdesc, ftype)\n",
    "    \n",
    "print(f'{len(column_desc)} categories, total of {sum([len(fields) for fields in column_desc.values()])} columns')\n",
    "print('===================================')\n",
    "for category, cols in column_desc.items():\n",
    "    print(f'{category}: {len(cols)} columns')"
   ]
  },
  {
   "cell_type": "code",
   "execution_count": 4,
   "metadata": {},
   "outputs": [],
   "source": [
    "filtered_columns = [\n",
    "    col\n",
    "    for cols in column_desc.values()\n",
    "    for col in cols\n",
    "]"
   ]
  },
  {
   "attachments": {},
   "cell_type": "markdown",
   "metadata": {},
   "source": [
    "Read my data"
   ]
  },
  {
   "cell_type": "code",
   "execution_count": 5,
   "metadata": {},
   "outputs": [
    {
     "data": {
      "text/plain": [
       "(26314, 26314)"
      ]
     },
     "execution_count": 5,
     "metadata": {},
     "output_type": "execute_result"
    }
   ],
   "source": [
    "df_sick = pd.read_csv('data/sick_data.csv', \n",
    "                      usecols=['eid'] + filtered_columns, \n",
    "                      index_col=['eid'])\n",
    "df_healthy = pd.read_csv('data/my_data.csv', \n",
    "                         usecols=['eid'] + filtered_columns, \n",
    "                         index_col=['eid'],\n",
    "                         nrows=2 * len(df_sick))\n",
    "df_healthy = df_healthy.loc[list(set(eid_healthy) & set(df_healthy.index))[:len(df_sick)]]\n",
    "\n",
    "len(df_sick), len(df_healthy)"
   ]
  },
  {
   "cell_type": "code",
   "execution_count": 6,
   "metadata": {},
   "outputs": [],
   "source": [
    "df_sick['diagnosis'] = 1\n",
    "df_healthy['diagnosis'] = 0\n",
    "df_raw = pd.concat([df_sick, df_healthy])"
   ]
  },
  {
   "cell_type": "code",
   "execution_count": 7,
   "metadata": {},
   "outputs": [
    {
     "data": {
      "text/plain": [
       "(42628, 4737, 5263)"
      ]
     },
     "execution_count": 7,
     "metadata": {},
     "output_type": "execute_result"
    }
   ],
   "source": [
    "eid_train, eid_test = train_test_split(df_raw.index.to_list(), test_size=0.1, random_state=42)\n",
    "eid_train, eid_val = train_test_split(eid_train, test_size=0.1, random_state=42)\n",
    "\n",
    "len(eid_train), len(eid_val), len(eid_test)"
   ]
  },
  {
   "attachments": {},
   "cell_type": "markdown",
   "metadata": {},
   "source": [
    "### Impute missing & negative values"
   ]
  },
  {
   "cell_type": "code",
   "execution_count": 8,
   "metadata": {},
   "outputs": [
    {
     "name": "stdout",
     "output_type": "stream",
     "text": [
      "\n",
      "Physical activity\n",
      "1100-0.0     1868\n",
      "2634-0.0    32389\n",
      "1021-0.0    28641\n",
      "894-0.0     14801\n",
      "3647-0.0    30357\n",
      "1001-0.0    48309\n",
      "914-0.0     25935\n",
      "874-0.0      8400\n",
      "981-0.0     17433\n",
      "2624-0.0    32453\n",
      "1011-0.0    28523\n",
      "3637-0.0    30376\n",
      "943-0.0      1247\n",
      "991-0.0     48311\n",
      "971-0.0     17427\n",
      "884-0.0      3159\n",
      "904-0.0      3253\n",
      "864-0.0      1397\n",
      "1090-0.0     1172\n",
      "1080-0.0     1126\n",
      "1070-0.0      628\n",
      "6164-0.0     5093\n",
      "6162-0.0     1071\n",
      "924-0.0       658\n",
      "dtype: int64\n",
      "\n",
      "Sleep\n",
      "1160-0.0     499\n",
      "1170-0.0     677\n",
      "1180-0.0    6445\n",
      "1190-0.0     212\n",
      "1200-0.0     185\n",
      "1210-0.0    3897\n",
      "1220-0.0     472\n",
      "dtype: int64\n",
      "\n",
      "Smoking\n",
      "20160-0.0      376\n",
      "20162-0.0    33819\n",
      "20161-0.0    33819\n",
      "20116-0.0      389\n",
      "1239-0.0       163\n",
      "1249-0.0      4969\n",
      "2644-0.0     40178\n",
      "3436-0.0     48079\n",
      "3456-0.0     48410\n",
      "3466-0.0     48451\n",
      "3476-0.0     48436\n",
      "3486-0.0     48057\n",
      "3496-0.0     48160\n",
      "3506-0.0     48050\n",
      "6158-0.0     51109\n",
      "2867-0.0     36981\n",
      "2877-0.0     36927\n",
      "2887-0.0     38009\n",
      "2897-0.0     36998\n",
      "2907-0.0     37278\n",
      "6157-0.0     40007\n",
      "2926-0.0     38545\n",
      "2936-0.0     37434\n",
      "1259-0.0      5204\n",
      "1269-0.0      5915\n",
      "1279-0.0      9291\n",
      "dtype: int64\n",
      "\n",
      "Diet\n",
      "1289-0.0      899\n",
      "1299-0.0      929\n",
      "1309-0.0      386\n",
      "1319-0.0      793\n",
      "1329-0.0      499\n",
      "1339-0.0      441\n",
      "1349-0.0      264\n",
      "1359-0.0      263\n",
      "1369-0.0      385\n",
      "1379-0.0      557\n",
      "1389-0.0      539\n",
      "3680-0.0    51023\n",
      "1408-0.0     1748\n",
      "1418-0.0      186\n",
      "1428-0.0      687\n",
      "2654-0.0    23842\n",
      "1438-0.0     1282\n",
      "1448-0.0     2087\n",
      "1458-0.0      368\n",
      "1468-0.0     9378\n",
      "1478-0.0      144\n",
      "1488-0.0      266\n",
      "1498-0.0      287\n",
      "1508-0.0    12684\n",
      "1518-0.0      661\n",
      "1528-0.0      557\n",
      "1538-0.0      251\n",
      "1548-0.0      832\n",
      "dtype: int64\n",
      "\n",
      "Alcohol\n",
      "20117-0.0      202\n",
      "1558-0.0       182\n",
      "3731-0.0     47737\n",
      "4407-0.0     48384\n",
      "4418-0.0     48392\n",
      "4429-0.0     48376\n",
      "4440-0.0     48388\n",
      "4451-0.0     48371\n",
      "4462-0.0     48368\n",
      "1568-0.0     17268\n",
      "1578-0.0     17291\n",
      "1588-0.0     17176\n",
      "1598-0.0     17314\n",
      "1608-0.0     17210\n",
      "5364-0.0     40568\n",
      "1618-0.0     26577\n",
      "1628-0.0      5418\n",
      "2664-0.0     31960\n",
      "3859-0.0     50435\n",
      "dtype: int64\n",
      "\n",
      "Chest pain\n",
      "2335-0.0      853\n",
      "3606-0.0    39342\n",
      "3616-0.0    45312\n",
      "3751-0.0    43709\n",
      "dtype: int64\n",
      "\n",
      "Blood pressure\n",
      "4079-0.0     3618\n",
      "94-0.0      49150\n",
      "4081-0.0      134\n",
      "95-0.0      49150\n",
      "102-0.0      3618\n",
      "4080-0.0     3621\n",
      "93-0.0      49150\n",
      "96-0.0        104\n",
      "dtype: int64\n",
      "\n",
      "Arterial stiffness\n",
      "4204-0.0     34505\n",
      "4199-0.0     34505\n",
      "4198-0.0     34505\n",
      "4200-0.0     34505\n",
      "4194-0.0     34505\n",
      "21021-0.0    34637\n",
      "4196-0.0     34518\n",
      "4195-0.0     34505\n",
      "dtype: int64\n",
      "\n",
      "Body size measures\n",
      "48-0.0       253\n",
      "21002-0.0    331\n",
      "21001-0.0    385\n",
      "49-0.0       256\n",
      "50-0.0       308\n",
      "51-0.0       759\n",
      "20015-0.0    759\n",
      "3077-0.0     759\n",
      "dtype: int64\n",
      "\n",
      "Blood count\n",
      "30160-0.0    2608\n",
      "30220-0.0    2607\n",
      "30150-0.0    2608\n",
      "30210-0.0    2607\n",
      "30030-0.0    2533\n",
      "30020-0.0    2533\n",
      "30300-0.0    3341\n",
      "30290-0.0    3341\n",
      "30280-0.0    3341\n",
      "30120-0.0    2608\n",
      "30180-0.0    2607\n",
      "30050-0.0    2533\n",
      "30060-0.0    2534\n",
      "30040-0.0    2534\n",
      "30100-0.0    2533\n",
      "30260-0.0    3341\n",
      "30270-0.0    3341\n",
      "30130-0.0    2608\n",
      "30190-0.0    2607\n",
      "30140-0.0    2608\n",
      "30200-0.0    2607\n",
      "30170-0.0    2609\n",
      "30230-0.0    2609\n",
      "30080-0.0    2533\n",
      "30090-0.0    2533\n",
      "30110-0.0    2533\n",
      "30010-0.0    2533\n",
      "30070-0.0    2534\n",
      "30250-0.0    3341\n",
      "30240-0.0    3341\n",
      "30000-0.0    2534\n",
      "dtype: int64\n",
      "\n",
      "Blood biochemistry\n",
      "30620-0.0     3474\n",
      "30600-0.0     7466\n",
      "30610-0.0     3438\n",
      "30630-0.0     7646\n",
      "30640-0.0     3758\n",
      "30650-0.0     3662\n",
      "30710-0.0     3560\n",
      "30680-0.0     7484\n",
      "30690-0.0     3442\n",
      "30700-0.0     3472\n",
      "30720-0.0     3443\n",
      "30660-0.0    10006\n",
      "30730-0.0     3476\n",
      "30740-0.0     7520\n",
      "30750-0.0     3774\n",
      "30760-0.0     7488\n",
      "30770-0.0     3712\n",
      "30780-0.0     3530\n",
      "30790-0.0    14152\n",
      "30800-0.0    46188\n",
      "30810-0.0     7561\n",
      "30820-0.0    48291\n",
      "30830-0.0     7884\n",
      "30850-0.0     7396\n",
      "30840-0.0     3692\n",
      "30860-0.0     7523\n",
      "30870-0.0     3492\n",
      "30880-0.0     3493\n",
      "30670-0.0     3483\n",
      "30890-0.0     5553\n",
      "dtype: int64\n"
     ]
    }
   ],
   "source": [
    "column_missing_values = pd.Series()\n",
    "\n",
    "for category, cols in column_desc.items():\n",
    "    print()\n",
    "    print(category)\n",
    "    nulls = df_raw[cols.keys()].isna().sum(axis=0)\n",
    "    negs = (np.logical_and(df_raw[cols.keys()] < 0, df_raw[cols.keys()] > -10)).sum(axis=0)\n",
    "    print(negs + nulls)\n",
    "    \n",
    "    column_missing_values = pd.concat([column_missing_values, nulls + negs])"
   ]
  },
  {
   "cell_type": "code",
   "execution_count": 9,
   "metadata": {},
   "outputs": [
    {
     "name": "stdout",
     "output_type": "stream",
     "text": [
      "taking only columns with less than 5000 missing values, we are left with 107 columns\n",
      "taking only columns with less than 10000 missing values, we are left with 125 columns\n",
      "taking only columns with less than 15000 missing values, we are left with 129 columns\n",
      "taking only columns with less than 20000 missing values, we are left with 136 columns\n",
      "taking only columns with less than 25000 missing values, we are left with 137 columns\n",
      "taking only columns with less than 30000 missing values, we are left with 141 columns\n",
      "taking only columns with less than 35000 missing values, we are left with 156 columns\n",
      "taking only columns with less than 40000 missing values, we are left with 164 columns\n",
      "taking only columns with less than 45000 missing values, we are left with 168 columns\n",
      "taking only columns with less than 50000 missing values, we are left with 190 columns\n"
     ]
    }
   ],
   "source": [
    "for missing_th in range(5000, 50001, 5000):\n",
    "    print(f'taking only columns with less than {missing_th} missing values, we are left with {len(column_missing_values[column_missing_values < missing_th])} columns')"
   ]
  },
  {
   "cell_type": "code",
   "execution_count": 10,
   "metadata": {},
   "outputs": [],
   "source": [
    "df_raw[df_raw == -10] = 0\n",
    "df_raw[df_raw < 0] = np.nan"
   ]
  },
  {
   "cell_type": "code",
   "execution_count": 34,
   "metadata": {},
   "outputs": [
    {
     "name": "stdout",
     "output_type": "stream",
     "text": [
      "Physical activity\n",
      "\ttrain score: 59.376 f1: 0.555, auc: 0.591\n",
      "\tval score: 59.273, f1: 0.559, auc: 0.591\n",
      "Sleep\n",
      "\ttrain score: 58.178 f1: 0.553, auc: 0.581\n",
      "\tval score: 58.423, f1: 0.556, auc: 0.584\n",
      "Smoking\n",
      "\ttrain score: 58.849 f1: 0.503, auc: 0.585\n",
      "\tval score: 58.141, f1: 0.497, auc: 0.579\n",
      "Diet\n",
      "\ttrain score: 58.488 f1: 0.572, auc: 0.585\n",
      "\tval score: 58.014, f1: 0.569, auc: 0.580\n",
      "Alcohol\n",
      "\ttrain score: 55.078 f1: 0.543, auc: 0.551\n",
      "\tval score: 53.684, f1: 0.533, auc: 0.537\n",
      "Chest pain\n",
      "\ttrain score: 61.298 f1: 0.490, auc: 0.612\n",
      "\tval score: 61.468, f1: 0.491, auc: 0.615\n",
      "Blood pressure\n",
      "\ttrain score: 58.640 f1: 0.573, auc: 0.586\n",
      "\tval score: 59.815, f1: 0.584, auc: 0.598\n",
      "Body size measures\n",
      "\ttrain score: 64.818 f1: 0.653, auc: 0.648\n",
      "\tval score: 64.307, f1: 0.652, auc: 0.643\n",
      "Blood count\n",
      "\ttrain score: 63.090 f1: 0.625, auc: 0.631\n",
      "\tval score: 63.091, f1: 0.627, auc: 0.631\n",
      "Blood biochemistry\n",
      "\ttrain score: 69.987 f1: 0.719, auc: 0.698\n",
      "\tval score: 70.785, f1: 0.731, auc: 0.705\n"
     ]
    },
    {
     "name": "stderr",
     "output_type": "stream",
     "text": [
      "lbfgs failed to converge (status=1):\n",
      "STOP: TOTAL NO. of ITERATIONS REACHED LIMIT.\n",
      "\n",
      "Increase the number of iterations (max_iter) or scale the data as shown in:\n",
      "    https://scikit-learn.org/stable/modules/preprocessing.html\n",
      "Please also refer to the documentation for alternative solver options:\n",
      "    https://scikit-learn.org/stable/modules/linear_model.html#logistic-regression\n"
     ]
    }
   ],
   "source": [
    "common_columns = column_missing_values[column_missing_values < len(df_raw) // 5].index.to_list() + ['diagnosis']\n",
    "category_classifiers = {}\n",
    "\n",
    "for category, cols in column_desc.items():\n",
    "    c = list(set(cols.keys()) & set(common_columns)) + ['diagnosis']\n",
    "    \n",
    "    if len(c) > 1:\n",
    "    \n",
    "        df_train = df_raw[c].loc[eid_train].dropna()\n",
    "        df_val = df_raw[c].loc[eid_val].dropna()\n",
    "        \n",
    "        X_train = df_train.drop(columns=['diagnosis'])\n",
    "        y_train = df_train['diagnosis']\n",
    "        X_val = df_val.drop(columns=['diagnosis'])\n",
    "        y_val = df_val['diagnosis']\n",
    "        \n",
    "        clf = LogisticRegression(max_iter=2000).fit(X_train, y_train)\n",
    "        category_classifiers[category] = clf\n",
    "        \n",
    "        print(category)\n",
    "        print(F'\\ttrain score: {100 * clf.score(X_train, y_train):.3f} f1: {f1_score(y_train, clf.predict(X_train)):.3f}, auc: {roc_auc_score(y_train, clf.predict(X_train)):.3f}') \n",
    "        print(f'\\tval score: {100 * clf.score(X_val, y_val):.3f}, f1: {f1_score(y_val, clf.predict(X_val)):.3f}, auc: {roc_auc_score(y_val, clf.predict(X_val)):.3f}')"
   ]
  },
  {
   "cell_type": "code",
   "execution_count": null,
   "metadata": {},
   "outputs": [],
   "source": [
    "# new_sick = []\n",
    "# new_healthy = []\n",
    "\n",
    "# for i in range(len(df_raw)):\n",
    "#     new_features = []\n",
    "    \n",
    "#     for category, clf in category_classifiers.items():\n",
    "#         cols = column_desc[category].keys()\n",
    "#         c = list(set(cols) & set(common_columns))\n",
    "        \n",
    "#         feature = clf.predict_proba(df_raw[cols].iloc[i].to_numpy().reshape(1, -1)) if df_raw[cols].iloc[i].isna().sum() == 0 else np.nan\n",
    "#         new_features.append(feature)\n",
    "        \n",
    "#     if df_raw.iloc[i]['eid'] in eid_sick:\n",
    "#         new_sick.append(new_features)\n",
    "#     else:\n",
    "#         new_healthy.append(new_features)"
   ]
  }
 ],
 "metadata": {
  "kernelspec": {
   "display_name": "bio-venv",
   "language": "python",
   "name": "python3"
  },
  "language_info": {
   "codemirror_mode": {
    "name": "ipython",
    "version": 3
   },
   "file_extension": ".py",
   "mimetype": "text/x-python",
   "name": "python",
   "nbconvert_exporter": "python",
   "pygments_lexer": "ipython3",
   "version": "3.10.7"
  },
  "orig_nbformat": 4
 },
 "nbformat": 4,
 "nbformat_minor": 2
}
